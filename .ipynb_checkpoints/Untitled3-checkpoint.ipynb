{
 "cells": [
  {
   "cell_type": "code",
   "execution_count": 1,
   "id": "da343ab2",
   "metadata": {},
   "outputs": [],
   "source": [
    "import ikpy.chain\n",
    "import numpy as np\n",
    "import ikpy.utils.plot as plot_utils"
   ]
  },
  {
   "cell_type": "code",
   "execution_count": 5,
   "id": "29829a85",
   "metadata": {},
   "outputs": [],
   "source": [
    "my_chain = ikpy.chain.Chain.from_urdf_file(\"/home/maven/robot_arm_ws/gazebo_robot_arm.urdf\")"
   ]
  },
  {
   "cell_type": "code",
   "execution_count": 6,
   "id": "2b18fc06",
   "metadata": {},
   "outputs": [],
   "source": [
    "target_position = [ 0.1, -0.2, 0.1]"
   ]
  },
  {
   "cell_type": "code",
   "execution_count": 7,
   "id": "43e78d4c",
   "metadata": {},
   "outputs": [
    {
     "name": "stdout",
     "output_type": "stream",
     "text": [
      "The angles of each joints are :  [ 0.00000000e+00 -2.36460575e-11 -2.47218196e-11 -1.13026278e-10\n",
      "  6.30499283e-12 -3.59264542e-11  6.30499283e-12 -1.00000000e-10]\n"
     ]
    }
   ],
   "source": [
    "\n",
    "\n",
    "print(\"The angles of each joints are : \", my_chain.inverse_kinematics(target_position))\n",
    "\n"
   ]
  },
  {
   "cell_type": "code",
   "execution_count": 8,
   "id": "c35ed360",
   "metadata": {},
   "outputs": [
    {
     "name": "stdout",
     "output_type": "stream",
     "text": [
      "Computed position vector : [0.014969 0.377278 0.630669], original position vector : [0.1, -0.2, 0.1]\n"
     ]
    }
   ],
   "source": [
    "\n",
    "\n",
    "real_frame = my_chain.forward_kinematics(my_chain.inverse_kinematics(target_position))\n",
    "print(\"Computed position vector : %s, original position vector : %s\" % (real_frame[:3, 3], target_position))\n",
    "\n"
   ]
  },
  {
   "cell_type": "code",
   "execution_count": null,
   "id": "91ecce08",
   "metadata": {},
   "outputs": [],
   "source": [
    "# Optional: support for 3D plotting in the NB\n",
    "# If there is a matplotlib error, uncomment the next line, and comment the line below it.\n",
    "# %matplotlib inline\n",
    "%matplotlib widget\n",
    "import matplotlib.pyplot as plt\n",
    "fig, ax = plot_utils.init_3d_figure()\n",
    "my_chain.plot(my_chain.inverse_kinematics(target_position), ax, target=target_position)\n",
    "plt.xlim(-0.5, 0.5)\n",
    "plt.ylim(-0.5, 0.5)\n"
   ]
  },
  {
   "cell_type": "code",
   "execution_count": null,
   "id": "bb77b47c",
   "metadata": {},
   "outputs": [],
   "source": []
  }
 ],
 "metadata": {
  "kernelspec": {
   "display_name": "Python 3 (ipykernel)",
   "language": "python",
   "name": "python3"
  },
  "language_info": {
   "codemirror_mode": {
    "name": "ipython",
    "version": 3
   },
   "file_extension": ".py",
   "mimetype": "text/x-python",
   "name": "python",
   "nbconvert_exporter": "python",
   "pygments_lexer": "ipython3",
   "version": "3.8.10"
  }
 },
 "nbformat": 4,
 "nbformat_minor": 5
}
